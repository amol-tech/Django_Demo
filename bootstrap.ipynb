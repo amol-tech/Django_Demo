{
 "cells": [
  {
   "cell_type": "code",
   "execution_count": 1,
   "id": "b5844de7-99cf-45ee-9295-6f68e6c42b5a",
   "metadata": {
    "tags": []
   },
   "outputs": [],
   "source": [
    "import os\n",
    "import django\n",
    "import yaml\n",
    "import bootstrap as bstrap\n",
    "os.environ.setdefault('DJANGO_SETTINGS_MODULE','proj_demo.settings')\n",
    "os.environ[\"DJANGO_ALLOW_ASYNC_UNSAFE\"] = \"true\"\n",
    "django.setup()\n",
    "from app_demo.models import Department,Employee,Customer,Product,Sales,SalesItem"
   ]
  },
  {
   "cell_type": "code",
   "execution_count": 2,
   "id": "8729b387-64f2-43f6-b903-608ad78090a4",
   "metadata": {
    "tags": []
   },
   "outputs": [
    {
     "name": "stdout",
     "output_type": "stream",
     "text": [
      "Generated successfully ...templates/app_demo/tables/table_customer.html\n",
      "Generated successfully ...templates/app_demo/list_customer.html\n",
      "Generated successfully ...templates/app_demo/detail_customer.html\n"
     ]
    }
   ],
   "source": [
    "bstrap.generate_model_html(Customer,'app_demo','customer')\n"
   ]
  }
 ],
 "metadata": {
  "kernelspec": {
   "display_name": "Python 3 (ipykernel)",
   "language": "python",
   "name": "python3"
  },
  "language_info": {
   "codemirror_mode": {
    "name": "ipython",
    "version": 3
   },
   "file_extension": ".py",
   "mimetype": "text/x-python",
   "name": "python",
   "nbconvert_exporter": "python",
   "pygments_lexer": "ipython3",
   "version": "3.7.1rc1"
  }
 },
 "nbformat": 4,
 "nbformat_minor": 5
}
