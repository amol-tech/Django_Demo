{
 "cells": [
  {
   "cell_type": "code",
   "execution_count": 1,
   "id": "b5844de7-99cf-45ee-9295-6f68e6c42b5a",
   "metadata": {
    "tags": []
   },
   "outputs": [],
   "source": [
    "import os\n",
    "import django\n",
    "import yaml\n",
    "import bootstrap as bstrap\n",
    "os.environ.setdefault('DJANGO_SETTINGS_MODULE','proj_demo.settings')\n",
    "os.environ[\"DJANGO_ALLOW_ASYNC_UNSAFE\"] = \"true\"\n",
    "django.setup()\n",
    "from app_demo.models import Department,Employee,Customer,Product,Sales,SalesItem"
   ]
  },
  {
   "cell_type": "code",
   "execution_count": 9,
   "id": "8729b387-64f2-43f6-b903-608ad78090a4",
   "metadata": {
    "tags": []
   },
   "outputs": [
    {
     "name": "stdout",
     "output_type": "stream",
     "text": [
      "Generated successfully ...templates/app_demo/tables/table_customer.html\n",
      "Generated successfully ...templates/app_demo/list_customer.html\n",
      "Generated successfully ...templates/app_demo/detail_customer.html\n"
     ]
    }
   ],
   "source": [
    "generate_model_html(Customer,'app_demo','customer')\n"
   ]
  },
  {
   "cell_type": "code",
   "execution_count": 8,
   "id": "e84494ca-8c19-491c-8ae7-e0ee577f791a",
   "metadata": {
    "tags": []
   },
   "outputs": [],
   "source": [
    "def generate_model_html(model_class,dir_app,model_name):\n",
    "    # Html Tags and Meta Data\n",
    "    with open('html_tags.yaml', 'r') as file:\n",
    "        html_tags = yaml.safe_load(file)\n",
    "    list_field_meta = get_model_metadata(model_class)\n",
    "    \n",
    "    # Start creating html text\n",
    "    str_out = '{% load static %}'\n",
    "    str_out = str_out + next_line() +  html_tags['table'].replace('%table_id%','tb_'+model_name)\n",
    "    \n",
    "    # Table Header\n",
    "    str_out = str_out + next_line(1) + html_tags['thead']\n",
    "    str_out = str_out + next_line(2) + '<tr>'\n",
    "    str_out =  str_out + next_line(3) + html_tags['th_action']\n",
    "    for f_meta in list_field_meta:\n",
    "        str_out =  str_out + next_line(3) + html_tags['th'] + f_meta['name'].title() + '</th>'\n",
    "    str_out =  str_out + next_line(2) + '</tr>'\n",
    "    str_out =  str_out + next_line(1) + '</thead>'\n",
    "    \n",
    "    # Table Body\n",
    "    \n",
    "    str_out = str_out + next_line(1) + html_tags['tbody']\n",
    "    str_out = str_out + next_line(2) + '{% for ' + model_name + ' in ' + model_name + '_list %}'\n",
    "    str_out = str_out + next_line(3) + html_tags['tr']\n",
    "    \n",
    "    str_out =  str_out + next_line(4) + html_tags['td'] \n",
    "    #Action td Edit\n",
    "    url = \"{% url '\" + dir_app + \":index_\" + model_name + \"_update' pk=\" + model_name + \".id %}\"\n",
    "    str_out =  str_out + next_line(5) + html_tags['a_edit_popup'] .replace('#model_name#',model_name.title()).replace('#url#',url)\n",
    "    str_out =  str_out + next_line(6) + html_tags['i_edit'] \n",
    "    str_out = str_out + next_line(5) + '</a>'\n",
    "    \n",
    "    #Action td Delete\n",
    "    url = \"{% url '\" + dir_app + \":index_\" + model_name + \"_delete' pk=\" + model_name + \".id %}\"\n",
    "    img_delete = '''<img src=\"{% static 'icons/delete.png' %}\"/>'''\n",
    "    str_out =  str_out + next_line(5) + html_tags['a_delete_popup'] .replace('#model_name#',model_name.title()).replace('#url#',url)\n",
    "    str_out =  str_out + next_line(6) + img_delete\n",
    "    str_out = str_out + next_line(5) + '</a>'\n",
    "    str_out =  str_out + next_line(4) + '</td>'\n",
    "    \n",
    "    for f_meta in list_field_meta:\n",
    "        str_out =  str_out + next_line(4) + html_tags['td'] + '{{' + model_name + '.' +f_meta['name'] + '}}'  + '</td>'\n",
    "    str_out = str_out + next_line(3) + '</tr>'\n",
    "    str_out = str_out + next_line(2) + '{% endfor %}'\n",
    "    str_out = str_out + next_line(1) + '</tbody>'\n",
    "    \n",
    "    str_out =  str_out + next_line() + '</table>'\n",
    "    \n",
    "    # Generating HTML Table\n",
    "    html_table = 'templates/'+dir_app+'/tables/table_'+model_name+'.html'\n",
    "    with open(html_table, 'w') as f:\n",
    "        f.write(str_out)\n",
    "    print('Generated successfully ...' + html_table)\n",
    "    \n",
    "    # Generating HTML List\n",
    "    html_list_tmpl = 'bootstrap_src/list.template'\n",
    "    html_list = 'templates/'+dir_app+'/list_'+model_name+'.html'\n",
    "    replace_app_model(html_list_tmpl,html_list,dir_app,model_name)\n",
    "    print('Generated successfully ...' + html_list)\n",
    "    \n",
    "     # Generating HTML Detail\n",
    "    str_form_fields = ''\n",
    "    for f_meta in list_field_meta:\n",
    "        str_form_fields = str_form_fields + '{{ form.' + f_meta['name'] + '|as_crispy_field }}' + next_line(5)\n",
    "    html_detail_tmpl = 'bootstrap_src/detail.template'\n",
    "    html_detail = 'templates/'+dir_app+'/detail_'+model_name+'.html'\n",
    "    fin_html_detail_tmpl = open(html_detail_tmpl, \"rt\")\n",
    "    fout_html_detail = open(html_detail, \"w\")\n",
    "    for line in fin_html_detail_tmpl:\n",
    "        #read replace the string and write to output file\n",
    "        ln = line.replace('#form_fields#', str_form_fields)\n",
    "        fout_html_detail.write(ln)\n",
    "    #close input and output files\n",
    "    fin_html_detail_tmpl.close()\n",
    "    fout_html_detail.close()\n",
    "    print('Generated successfully ...' + html_detail)\n",
    "\n",
    "    "
   ]
  },
  {
   "cell_type": "code",
   "execution_count": 2,
   "id": "7a59398f-e6ae-4c59-98c7-17c72269b8cc",
   "metadata": {
    "tags": []
   },
   "outputs": [],
   "source": [
    "def generate_model_code(app_name,model_name):\n",
    "    fin_name = 'bootstrap_src/code.template'\n",
    "    fout_name = app_name + '/' + model_name +'.code'\n",
    "    fout = open(fout_name, \"w\")\n",
    "    replace_app_model(fin_name,fout_name,app_name,model_name)\n",
    "    print('Code generated successfully ...' + fout_name)\n",
    "    \n",
    "def replace_app_model(fin_name,fout_name,app_name,model_name):\n",
    "    #input file\n",
    "    fin = open(fin_name, \"rt\")\n",
    "    #output file to write the result to\n",
    "    fout = open(fout_name, \"w\")\n",
    "    #for each line in the input file\n",
    "    for line in fin:\n",
    "        #read replace the string and write to output file\n",
    "        ln = line.replace('#application#', app_name)\n",
    "        ln = ln.replace('#model#', model_name)\n",
    "        ln = ln.replace('#Model#', model_name.title())\n",
    "        fout.write(ln)\n",
    "    #close input and output files\n",
    "    fin.close()\n",
    "    fout.close()\n",
    "\n",
    "def get_model_metadata(model_class):\n",
    "    list_out = []\n",
    "    attributes = ['name','max_length','null','primary_key','max_digits']\n",
    "    fields = model_class._meta.fields\n",
    "    for f in fields:\n",
    "        dict_field_attr = {}\n",
    "        field_meta = f.__dict__\n",
    "        for attr in attributes:\n",
    "            dict_field_attr[attr] = field_meta[attr] if attr in field_meta else None\n",
    "        list_out.append(dict_field_attr)\n",
    "    return list_out\n",
    "\n",
    "def next_line(ctr=0):\n",
    "    return '\\n' + '   ' * ctr"
   ]
  }
 ],
 "metadata": {
  "kernelspec": {
   "display_name": "Python 3 (ipykernel)",
   "language": "python",
   "name": "python3"
  },
  "language_info": {
   "codemirror_mode": {
    "name": "ipython",
    "version": 3
   },
   "file_extension": ".py",
   "mimetype": "text/x-python",
   "name": "python",
   "nbconvert_exporter": "python",
   "pygments_lexer": "ipython3",
   "version": "3.7.1rc1"
  }
 },
 "nbformat": 4,
 "nbformat_minor": 5
}
