{
 "cells": [
  {
   "cell_type": "code",
   "execution_count": 2,
   "id": "6a26349a-2427-4f75-9961-6a3ae9ac6c85",
   "metadata": {},
   "outputs": [],
   "source": [
    "from faker import Faker\n",
    "import random\n",
    "import os\n",
    "import django\n",
    "os.environ.setdefault('DJANGO_SETTINGS_MODULE','proj_demo.settings')\n",
    "os.environ[\"DJANGO_ALLOW_ASYNC_UNSAFE\"] = \"true\"\n",
    "django.setup()\n",
    "from app_demo.models import Department,Employee\n",
    "import datetime"
   ]
  },
  {
   "cell_type": "code",
   "execution_count": 11,
   "id": "9db9693a-d125-41f9-86ae-d095aba6b818",
   "metadata": {},
   "outputs": [],
   "source": [
    "fake_gen = Faker()\n",
    "dict_desig = {'Sales':['Area Manager','Salesman','Officer'],\n",
    "             'Production':['Manager','Production Head','Engineer','Labour'],\n",
    "             'Account':['Manager','Officer','Clerk'],\n",
    "             'Purchase':['Manager','Officer','Clerk']}\n",
    "\n",
    "def get_basic_fact(desig):\n",
    "    if 'Manager' in desig:\n",
    "        return 100\n",
    "    elif desig == 'Production Head':\n",
    "        return 50\n",
    "    elif desig in ['Officer','Engineer']:\n",
    "        return 20\n",
    "    else:\n",
    "        return 10"
   ]
  },
  {
   "cell_type": "code",
   "execution_count": 12,
   "id": "448bbadb-5b27-469a-aeb8-362cf34fb304",
   "metadata": {},
   "outputs": [],
   "source": [
    "def add_department(id, name, location, start_range, end_range):\n",
    "    dept = Department.objects.get_or_create(id=id, name=name, location=location)[0]\n",
    "    dept.save()\n",
    "    designations = dict_desig.get(name)\n",
    "\n",
    "    for i in range(start_range, end_range):\n",
    "        emp_id = 'E' + ('00' if i <= 9 else ('0' if i <= 99 else '')) + str(i)\n",
    "        desig = random.choice(designations)\n",
    "        basic_fact = get_basic_fact(desig)\n",
    "\n",
    "        emp = Employee.objects.get_or_create(id=emp_id,\n",
    "                                             name=fake_gen.name(),\n",
    "                                             designation=desig,\n",
    "                                             joining_date=fake_gen.date_between(datetime.date(2016, 1, 1),\n",
    "                                                                                datetime.date(2021, 12, 30)),\n",
    "                                             basic=fake_gen.pydecimal(left_digits=5, right_digits=0,\n",
    "                                                                      positive=True) * basic_fact,\n",
    "                                             allowence=fake_gen.pydecimal(left_digits=3, right_digits=0,\n",
    "                                                                          positive=True) * basic_fact,\n",
    "                                             address=fake_gen.street_address(),\n",
    "                                             city=fake_gen.city(),\n",
    "                                             contact_no=fake_gen.phone_number(),\n",
    "                                             department=dept)[0]\n",
    "        emp.save()\n",
    "    print('Successfully generated data for department : '+name)"
   ]
  },
  {
   "cell_type": "code",
   "execution_count": 13,
   "id": "5de3288c-0484-4ced-bdea-242d4f0bc353",
   "metadata": {},
   "outputs": [
    {
     "name": "stdout",
     "output_type": "stream",
     "text": [
      "Successfully generated data for department : Purchase\n"
     ]
    }
   ],
   "source": [
    "add_department('D04','Purchase','Hydrabad',187,220)"
   ]
  }
 ],
 "metadata": {
  "kernelspec": {
   "display_name": "Python 3 (ipykernel)",
   "language": "python",
   "name": "python3"
  },
  "language_info": {
   "codemirror_mode": {
    "name": "ipython",
    "version": 3
   },
   "file_extension": ".py",
   "mimetype": "text/x-python",
   "name": "python",
   "nbconvert_exporter": "python",
   "pygments_lexer": "ipython3",
   "version": "3.7.1rc1"
  }
 },
 "nbformat": 4,
 "nbformat_minor": 5
}
