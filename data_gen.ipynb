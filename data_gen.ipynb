{
 "cells": [
  {
   "cell_type": "code",
   "execution_count": 1,
   "id": "6a26349a-2427-4f75-9961-6a3ae9ac6c85",
   "metadata": {},
   "outputs": [],
   "source": [
    "from faker import Faker\n",
    "import random\n",
    "import os\n",
    "import django\n",
    "os.environ.setdefault('DJANGO_SETTINGS_MODULE','proj_demo.settings')\n",
    "os.environ[\"DJANGO_ALLOW_ASYNC_UNSAFE\"] = \"true\"\n",
    "django.setup()\n",
    "from app_demo.models import Department,Employee,Customer,Product,Sales,SalesItem\n",
    "import datetime\n",
    "import pandas as pd"
   ]
  },
  {
   "cell_type": "code",
   "execution_count": 2,
   "id": "9db9693a-d125-41f9-86ae-d095aba6b818",
   "metadata": {},
   "outputs": [],
   "source": [
    "fake_gen = Faker()\n",
    "dict_desig = {'Sales':['Area Manager','Salesman','Officer'],\n",
    "             'Production':['Manager','Production Head','Engineer','Labour'],\n",
    "             'Account':['Manager','Officer','Clerk'],\n",
    "             'Purchase':['Manager','Officer','Clerk']}\n",
    "\n",
    "def get_basic_fact(desig):\n",
    "    if 'Manager' in desig:\n",
    "        return 100\n",
    "    elif desig == 'Production Head':\n",
    "        return 50\n",
    "    elif desig in ['Officer','Engineer']:\n",
    "        return 20\n",
    "    else:\n",
    "        return 10"
   ]
  },
  {
   "cell_type": "code",
   "execution_count": 3,
   "id": "307b58d1-b1b5-44b4-9d50-1b14149f898d",
   "metadata": {
    "tags": []
   },
   "outputs": [],
   "source": [
    "def create_customers(start_index,end_index):\n",
    "    fake_gen = Faker()\n",
    "    \n",
    "    for i in range(start_index,end_index):\n",
    "        cust_id = 'C' + ('00' if i <= 9 else ('0' if i <= 99 else '')) + str(i)\n",
    "        c_limit = random.choice([10,15,20,30,12,8])\n",
    "        cust = Customer.objects.get_or_create(id=cust_id,\n",
    "                                              name=fake_gen.name(),\n",
    "                                              credit_limit=c_limit,\n",
    "                                              address = fake_gen.address().replace('\\n',''),\n",
    "                                              landmark=fake_gen.street_address(),\n",
    "                                              city=fake_gen.city(),\n",
    "                                              state=fake_gen.state())[0]\n",
    "        cust.save()\n",
    "    print('Customers created successfully')"
   ]
  },
  {
   "cell_type": "code",
   "execution_count": 4,
   "id": "41b7ec10-7641-4c0d-8a28-e4d1c14a2432",
   "metadata": {
    "tags": []
   },
   "outputs": [],
   "source": [
    "def create_products():\n",
    "    df_prod = pd.read_csv('product.csv')\n",
    "    list_dict_prod = df_prod.to_dict('records')\n",
    "    for d_prod in list_dict_prod:\n",
    "        prod = Product.objects.get_or_create(id=d_prod['id'],\n",
    "                                                  name=d_prod['name'],\n",
    "                                                  manufacturer=d_prod['manufacturer'],\n",
    "                                                  cost_rate=d_prod['cost_rate'])[0]\n",
    "        prod.save()\n",
    "    print('Products created successfully')"
   ]
  },
  {
   "cell_type": "code",
   "execution_count": 5,
   "id": "448bbadb-5b27-469a-aeb8-362cf34fb304",
   "metadata": {},
   "outputs": [],
   "source": [
    "def create_employees(id, name, location, start_range, end_range):\n",
    "    dept = Department.objects.get_or_create(id=id, name=name, location=location)[0]\n",
    "    dept.save()\n",
    "    designations = dict_desig.get(name)\n",
    "\n",
    "    for i in range(start_range, end_range):\n",
    "        emp_id = 'E' + ('00' if i <= 9 else ('0' if i <= 99 else '')) + str(i)\n",
    "        desig = random.choice(designations)\n",
    "        basic_fact = get_basic_fact(desig)\n",
    "\n",
    "        emp = Employee.objects.get_or_create(id=emp_id,\n",
    "                                             name=fake_gen.name(),\n",
    "                                             designation=desig,\n",
    "                                             joining_date=fake_gen.date_between(datetime.date(2016, 1, 1),\n",
    "                                                                                datetime.date(2021, 12, 30)),\n",
    "                                             basic=fake_gen.pydecimal(left_digits=5, right_digits=0,\n",
    "                                                                      positive=True) * basic_fact,\n",
    "                                             allowence=fake_gen.pydecimal(left_digits=3, right_digits=0,\n",
    "                                                                          positive=True) * basic_fact,\n",
    "                                             address=fake_gen.street_address(),\n",
    "                                             city=fake_gen.city(),\n",
    "                                             contact_no=fake_gen.phone_number(),\n",
    "                                             department=dept)[0]\n",
    "        try:\n",
    "            emp.save()\n",
    "        except:\n",
    "            print('Failed to create employee')\n",
    "    print('Successfully generated data for department : '+name)"
   ]
  },
  {
   "cell_type": "code",
   "execution_count": 6,
   "id": "987372e4-2528-4e3b-bd86-53eb6e37093c",
   "metadata": {
    "tags": []
   },
   "outputs": [],
   "source": [
    "def create_sales(start_index,end_index,start_date,end_date):\n",
    "    \n",
    "    customers = Customer.objects.all()\n",
    "    products = Product.objects.all()\n",
    "    fake_gen = Faker()\n",
    "    \n",
    "    for i in range(start_index, end_index):\n",
    "        cust = random.choice(customers)\n",
    "        gross_amt = 0\n",
    "        # Sales\n",
    "        sales = Sales.objects.get_or_create(id=i,\n",
    "                                            date=fake_gen.date_between(start_date,end_date),\n",
    "                                            customer = cust,\n",
    "                                            gross_amount = 0,\n",
    "                                            disc_rate = random.choice([5,10,15,20]),\n",
    "                                            disc_amount = 0,\n",
    "                                            net_amount = 0)[0]\n",
    "        sales.save()\n",
    "        \n",
    "        # Sales Items\n",
    "        for i in range(1,random.randint(2,8)):\n",
    "            prod = random.choice(products)\n",
    "            qty = random.randint(1,6)\n",
    "            rate = prod.cost_rate + (100 * random.randint(5,20))\n",
    "            amt = rate * qty\n",
    "            salesitem = SalesItem.objects.get_or_create(sales = sales,\n",
    "                                            product = prod,\n",
    "                                            rate = rate,\n",
    "                                            qty = qty,\n",
    "                                            amount = amt)[0]\n",
    "            salesitem.save()\n",
    "            \n",
    "            gross_amt = gross_amt + amt\n",
    "        \n",
    "        # Update Sales\n",
    "        disc = gross_amt * sales.disc_rate / 100\n",
    "        sales.gross_amount = gross_amt\n",
    "        sales.disc_amount = disc\n",
    "        sales.net_amount = gross_amt - disc\n",
    "        sales.save()\n",
    "    print('Sales created successfully')"
   ]
  },
  {
   "cell_type": "code",
   "execution_count": 15,
   "id": "5de3288c-0484-4ced-bdea-242d4f0bc353",
   "metadata": {},
   "outputs": [
    {
     "name": "stdout",
     "output_type": "stream",
     "text": [
      "Sales created successfully\n"
     ]
    }
   ],
   "source": [
    "#create_employees('D04','Purchase','Hydrabad',151,185)\n",
    "#create_products()\n",
    "#create_customers(1,21)\n",
    "#create_sales(1,100,datetime.date(2021, 1, 1),datetime.date(2021, 12,31))\n",
    "#create_sales(101,200,datetime.date(2022, 1, 1),datetime.date(2022, 12,31))\n",
    "create_sales(201,300,datetime.date(2023, 1, 1),datetime.date(2023, 12,31))"
   ]
  },
  {
   "cell_type": "code",
   "execution_count": null,
   "id": "1f744927-009c-4255-bf5f-ad5d79a7c285",
   "metadata": {
    "tags": []
   },
   "outputs": [],
   "source": [
    " print('Sales created successfully in a range of ',1,'-',100)"
   ]
  }
 ],
 "metadata": {
  "kernelspec": {
   "display_name": "Python 3 (ipykernel)",
   "language": "python",
   "name": "python3"
  },
  "language_info": {
   "codemirror_mode": {
    "name": "ipython",
    "version": 3
   },
   "file_extension": ".py",
   "mimetype": "text/x-python",
   "name": "python",
   "nbconvert_exporter": "python",
   "pygments_lexer": "ipython3",
   "version": "3.7.1rc1"
  }
 },
 "nbformat": 4,
 "nbformat_minor": 5
}
