{
 "cells": [
  {
   "cell_type": "code",
   "execution_count": 1,
   "id": "8004b521-f35d-4c5c-8fef-fa8032c1fd15",
   "metadata": {
    "tags": []
   },
   "outputs": [],
   "source": [
    "import os\n",
    "import django\n",
    "import pandas as pd\n",
    "os.environ.setdefault('DJANGO_SETTINGS_MODULE','proj_demo.settings')\n",
    "os.environ[\"DJANGO_ALLOW_ASYNC_UNSAFE\"] = \"true\"\n",
    "django.setup()\n",
    "from app_demo.models import Department,Employee,Customer,Product,Sales,SalesItem\n",
    "from django.db.models import Max,Min,Count,Sum\n",
    "import pandas as pd\n",
    "import plotly.express as px"
   ]
  },
  {
   "cell_type": "code",
   "execution_count": null,
   "id": "dc38c56a-8914-47fe-8be8-605976703b7b",
   "metadata": {
    "tags": []
   },
   "outputs": [],
   "source": [
    "dict_range = Sales.objects.aggregate(dt_min_sales=Min(\"date\"),dt_max_sales=Max(\"date\"))\n",
    "dt_min = dict_range['dt_min_sales']\n",
    "dt_max = dict_range['dt_max_sales']\n",
    "dict_range"
   ]
  },
  {
   "cell_type": "code",
   "execution_count": null,
   "id": "3ea6f1df-9170-41c9-a53f-4566bc23e0f1",
   "metadata": {},
   "outputs": [],
   "source": []
  },
  {
   "cell_type": "code",
   "execution_count": null,
   "id": "756f3d83-2255-42d1-bd18-e7fdc0e60458",
   "metadata": {
    "tags": []
   },
   "outputs": [],
   "source": [
    "obj_cust = Customer.objects.get(id='C012')\n",
    "qs_sales = Sales.objects.filter(customer=obj_cust).order_by('date')\n",
    "df_sales = pd.DataFrame.from_records(qs_sales.values())\n",
    "cust_name = obj_cust.name\n",
    "cust_name"
   ]
  },
  {
   "cell_type": "code",
   "execution_count": null,
   "id": "d4e1702a-d40c-4d32-9107-8a7badadf4ba",
   "metadata": {
    "tags": []
   },
   "outputs": [],
   "source": [
    "df_sales.head()"
   ]
  },
  {
   "cell_type": "code",
   "execution_count": null,
   "id": "d8528c66-106a-424e-ba01-7648ed482b56",
   "metadata": {
    "tags": []
   },
   "outputs": [],
   "source": [
    "fig = px.line(df_sales, x='date', y=\"net_amount\",markers=True,title='Sales trend for customer : '+cust_name)\n",
    "fig"
   ]
  },
  {
   "cell_type": "code",
   "execution_count": null,
   "id": "646f5f45-d8d1-494a-bb41-563d0b342348",
   "metadata": {
    "tags": []
   },
   "outputs": [],
   "source": [
    "qs_sum_sales_by_cust = Sales.objects.values('customer').annotate(total_sales=Sum('net_amount')).order_by('customer')\n",
    "df_sum_sales_by_cust = pd.DataFrame.from_records(qs_sum_sales_by_cust)\n",
    "df_sum_sales_by_cust = df_sum_sales_by_cust.rename(columns={'total_sales':'Total Sales','customer':'Customer ID'})\n",
    "fig = px.bar(df_sum_sales_by_cust, x='Customer ID', y=\"Total Sales\",title='Customer wise Total Sales')\n",
    "#fig.update_traces(marker_color = 'cadetblue')\n",
    "#fig.update_layout(paper_bgcolor=\"aliceblue\")\n",
    "fig.update_traces(marker_color='cadetblue',paper_bgcolor=\"aliceblue\")\n",
    "fig.update_layout(paper_bgcolor=\"aliceblue\")\n",
    "#fig.update_traces( selector=dict(type='bar'))\n",
    "fig\n"
   ]
  },
  {
   "cell_type": "code",
   "execution_count": 7,
   "id": "e3cf4d4b-fe39-4e3b-b35d-72498f9a59ec",
   "metadata": {
    "tags": []
   },
   "outputs": [],
   "source": [
    "obj_prod = Product.objects.all()\n",
    "df_prod = pd.DataFrame.from_records(obj_prod.values())\n",
    "df_prod.to_csv('product.csv',index=False)"
   ]
  },
  {
   "cell_type": "code",
   "execution_count": 4,
   "id": "c719d8b8-8863-4d67-9f00-c869887dd562",
   "metadata": {
    "tags": []
   },
   "outputs": [
    {
     "data": {
      "text/plain": [
       "<bound method BaseManager.all of <django.db.models.manager.Manager object at 0x000001C00B2140F0>>"
      ]
     },
     "execution_count": 4,
     "metadata": {},
     "output_type": "execute_result"
    }
   ],
   "source": [
    "obj_prod"
   ]
  }
 ],
 "metadata": {
  "kernelspec": {
   "display_name": "Python 3 (ipykernel)",
   "language": "python",
   "name": "python3"
  },
  "language_info": {
   "codemirror_mode": {
    "name": "ipython",
    "version": 3
   },
   "file_extension": ".py",
   "mimetype": "text/x-python",
   "name": "python",
   "nbconvert_exporter": "python",
   "pygments_lexer": "ipython3",
   "version": "3.7.1rc1"
  }
 },
 "nbformat": 4,
 "nbformat_minor": 5
}
