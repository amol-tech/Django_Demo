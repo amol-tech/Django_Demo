{
 "cells": [
  {
   "cell_type": "code",
   "execution_count": 1,
   "id": "e50ec6a3-b04a-44e4-b0e1-72e0047a30cd",
   "metadata": {
    "tags": []
   },
   "outputs": [],
   "source": [
    "import os\n",
    "import django\n",
    "os.environ.setdefault('DJANGO_SETTINGS_MODULE','proj_demo.settings')\n",
    "os.environ[\"DJANGO_ALLOW_ASYNC_UNSAFE\"] = \"true\"\n",
    "django.setup()\n",
    "from app_demo.models import Department,Employee,Customer,Product,Sales,SalesItem\n",
    "import datetime\n",
    "import calendar\n",
    "from django.db.models import Max,Min\n",
    "import pandas as pd\n",
    "import plotly.express as px"
   ]
  },
  {
   "cell_type": "code",
   "execution_count": null,
   "id": "612b8599-db2e-46cd-9c3f-0278e31d6177",
   "metadata": {
    "tags": []
   },
   "outputs": [],
   "source": [
    "def get_period_tree(dt_min,dt_max):\n",
    "    dict_period = {}\n",
    "    list_dict_tree = []\n",
    "    for y in range(dt_max.year,dt_min.year-1,-1):\n",
    "        dict_node = {}\n",
    "        di_detail = {}\n",
    "        di_detail['from_date'] = datetime.date(y,1,1)\n",
    "        di_detail['to_date'] = datetime.date(y,12,31)\n",
    "        dict_period[y] = di_detail\n",
    "        list_dict_nodes = []\n",
    "        \n",
    "        for m in range(di_detail['to_date'].month,di_detail['from_date'].month-1,-1):\n",
    "            dict_child_node = {}\n",
    "            res = calendar.monthrange(y,m)\n",
    "            di_detail = {}\n",
    "            dt_start = datetime.date(y,m,1)\n",
    "            name = dt_start.strftime('%b-%Y')\n",
    "            di_detail['from_date'] = dt_start\n",
    "            di_detail['to_date'] =  datetime.date(y,m,res[1])\n",
    "            dict_period[name] = di_detail\n",
    "            \n",
    "            dict_child_node['name'] = name\n",
    "            dict_child_node['icon'] = 'fa fa-bars'\n",
    "            dict_child_node['children'] = []\n",
    "            list_dict_nodes.append(dict_child_node)\n",
    "            \n",
    "        dict_node['name'] = str(y)\n",
    "        dict_node['icon'] = 'far fa-calendar'\n",
    "        dict_node['children'] = list_dict_nodes\n",
    "        list_dict_tree.append(dict_node)\n",
    "        \n",
    "    return dict_period,list_dict_tree"
   ]
  },
  {
   "cell_type": "code",
   "execution_count": null,
   "id": "3d80127d-d719-44fa-98a9-82966546d6c6",
   "metadata": {
    "tags": []
   },
   "outputs": [],
   "source": [
    "dict_range = Sales.objects.aggregate(dt_min_sales=Min(\"date\"),dt_max_sales=Max(\"date\"))\n",
    "dt_min = dict_range['dt_min_sales']\n",
    "dt_max = dict_range['dt_max_sales']\n",
    "#dict_period,list_dict_tree = get_period_tree(dt_min,dt_max)\n",
    "dict_range\n"
   ]
  },
  {
   "cell_type": "code",
   "execution_count": null,
   "id": "f4c7c469-9ade-45f9-a034-01667431b761",
   "metadata": {
    "tags": []
   },
   "outputs": [],
   "source": [
    "from_date = dict_period['Dec-2021']['from_date']\n",
    "to_date = dict_period['Dec-2021']['to_date']\n",
    "qs =  Sales.objects.filter(date__gte=from_date,date__lte=to_date)\n",
    "len(qs)"
   ]
  },
  {
   "cell_type": "code",
   "execution_count": null,
   "id": "04810dc9-8594-4f71-a0dd-d9cdbe72ec07",
   "metadata": {
    "tags": []
   },
   "outputs": [],
   "source": [
    "cust = Customer.objects.get(id='C012')\n",
    "cust_sales = Sales.objects.filter(customer=cust).order_by('date')\n",
    "df = pd.DataFrame.from_records(cust_sales.values())\n",
    "#df\n",
    "#fig = px.line(df, x='date', y=\"net_amount\")\n",
    "#fig.show()\n",
    "df['date'] = df['date'].astype('datetime64')\n",
    "df['year'] = df['date'].dt.year\n",
    "df['year'] = df['year'].astype('str')\n",
    "df_summary =  df.groupby('year').agg({'net_amount':['sum']})\n",
    "df_summary.columns = ['total_sales']\n",
    "df_summary = df_summary.reset_index()\n",
    "df_summary\n",
    "fig = px.pie(df_summary, values='total_sales', names=\"year\")\n",
    "fig.show()\n"
   ]
  },
  {
   "cell_type": "code",
   "execution_count": null,
   "id": "4007e044-7c02-4580-9a6b-c6e5f5afbbc0",
   "metadata": {
    "tags": []
   },
   "outputs": [],
   "source": [
    "import app_demo.data.context_menu as context_menu\n",
    "\n",
    "cmenu_provider1 = context_menu.ContextMenuProvider.get_instance()\n",
    "cmenu_provider2 = context_menu.ContextMenuProvider.get_instance()\n",
    "cmenu_provider2._get_context_menu('sales_right_click')\n"
   ]
  },
  {
   "cell_type": "code",
   "execution_count": null,
   "id": "fd654f64-a5ec-49ef-a371-e8064d649e91",
   "metadata": {
    "tags": []
   },
   "outputs": [],
   "source": [
    "cmenu_provider1._get_context_menu('sales_right_click')"
   ]
  },
  {
   "cell_type": "code",
   "execution_count": null,
   "id": "2bebd6d3-d5ca-429c-a2f5-75e661b06920",
   "metadata": {
    "tags": []
   },
   "outputs": [],
   "source": [
    "import app_demo.data.context_menu as context_menu\n",
    "cmenu_provider4 = context_menu.ContextMenuProvider()\n",
    "cmenu_provider4._get_context_menu('sales_right_click')"
   ]
  }
 ],
 "metadata": {
  "kernelspec": {
   "display_name": "Python 3 (ipykernel)",
   "language": "python",
   "name": "python3"
  },
  "language_info": {
   "codemirror_mode": {
    "name": "ipython",
    "version": 3
   },
   "file_extension": ".py",
   "mimetype": "text/x-python",
   "name": "python",
   "nbconvert_exporter": "python",
   "pygments_lexer": "ipython3",
   "version": "3.7.1rc1"
  }
 },
 "nbformat": 4,
 "nbformat_minor": 5
}
